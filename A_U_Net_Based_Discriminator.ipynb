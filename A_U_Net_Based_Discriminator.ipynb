{
  "nbformat": 4,
  "nbformat_minor": 0,
  "metadata": {
    "colab": {
      "name": "A-U-Net-Based-Discriminator.ipynb",
      "provenance": [],
      "collapsed_sections": [],
      "include_colab_link": true
    },
    "kernelspec": {
      "name": "python3",
      "display_name": "Python 3"
    }
  },
  "cells": [
    {
      "cell_type": "markdown",
      "metadata": {
        "id": "view-in-github",
        "colab_type": "text"
      },
      "source": [
        "<a href=\"https://colab.research.google.com/github/MistreanuIonutCosmin/A-U-Net-Based-Discriminator-for-Generative-Adversarial-Networks/blob/master/A_U_Net_Based_Discriminator.ipynb\" target=\"_parent\"><img src=\"https://colab.research.google.com/assets/colab-badge.svg\" alt=\"Open In Colab\"/></a>"
      ]
    },
    {
      "cell_type": "code",
      "metadata": {
        "id": "sDGQRIEjQKlZ",
        "colab_type": "code",
        "colab": {}
      },
      "source": [
        "import torch\n",
        "from torch import nn\n",
        "import torch.nn.functional as F"
      ],
      "execution_count": 0,
      "outputs": []
    },
    {
      "cell_type": "code",
      "metadata": {
        "id": "1E-cLUGwWFlv",
        "colab_type": "code",
        "colab": {}
      },
      "source": [
        "class Norms(object):\n",
        "  BATCH_NORM = 'bn'\n",
        "  BATCH_NORM_AFFINE = 'bnaffine'\n",
        "  INSTANCE_NORM = 'in'\n",
        "  INSTANCE_NORM_AFFINE = 'inaffine'\n",
        "  NO_NORM = 'nonorm'\n",
        "\n",
        "class NoNorm(nn.Module):\n",
        "  def __init__(self, *input):\n",
        "    super(NoNorm, self).__init__()\n",
        "\n",
        "  def forward(self, x):\n",
        "    return x\n",
        "\n",
        "def get_norm(dim, norm=Norms.BATCH_NORM_AFFINE):\n",
        "  if norm == Norms.BATCH_NORM_AFFINE:\n",
        "    return lambda dim: nn.BatchNorm2d(dim, affine=True)\n",
        "  elif norm == Norms.BATCH_NORM:\n",
        "    return lambda dim: nn.BatchNorm2d(dim, affine=False)\n",
        "  elif norm == Norms.INSTANCE_NORM_AFFINE:\n",
        "    return lambda dim: nn.InstanceNorm2d(dim, affine=True)\n",
        "  elif norm == Norms.INSTANCE_NORM:\n",
        "    return lambda dim: nn.InstanceNorm2d(dim, affine=False)\n",
        "  elif norm == Norms.NO_NORM:\n",
        "    return NoNorm"
      ],
      "execution_count": 0,
      "outputs": []
    },
    {
      "cell_type": "code",
      "metadata": {
        "id": "EokjjksXXoYY",
        "colab_type": "code",
        "colab": {}
      },
      "source": [
        "norm = NoNorm()"
      ],
      "execution_count": 0,
      "outputs": []
    },
    {
      "cell_type": "code",
      "metadata": {
        "id": "89HYob23Pnt8",
        "colab_type": "code",
        "colab": {}
      },
      "source": [
        "class ResBlock2d(nn.Module):\n",
        "    \"\"\"\n",
        "    Res block, preserve spatial resolution.\n",
        "    \"\"\"\n",
        "\n",
        "    def __init__(self, in_features, out_features, kernel_size, padding, norm=Norms.BATCH_NORM_AFFINE):\n",
        "        super(ResBlock2d, self).__init__()\n",
        "        print(in_features)\n",
        "        self.conv1 = nn.Conv2d(in_channels=int(in_features), out_channels=int(out_features), kernel_size=kernel_size,\n",
        "                               padding=padding)\n",
        "        self.conv2 = nn.Conv2d(in_channels=int(out_features), out_channels=int(out_features), kernel_size=kernel_size,\n",
        "                               padding=padding)\n",
        "        if in_features != out_features:\n",
        "          self.shortcut = True\n",
        "          self.convs = nn.Conv2d(in_channels=int(in_features), out_channels=int(out_features), kernel_size=1,\n",
        "                                 padding=0)\n",
        "        else:\n",
        "          self.shortcut = False\n",
        "\n",
        "        self.norm_class = get_norm(norm)\n",
        "        self.norm1 = self.norm_class(int(in_features))\n",
        "        self.norm2 = self.norm_class(int(out_features))\n",
        "\n",
        "    def _shortcut(self, x):\n",
        "      if self.shortcut:\n",
        "        return self.convs(x)\n",
        "      else:\n",
        "        return x\n",
        "\n",
        "    def forward(self, x):\n",
        "        out = self.norm1(x)\n",
        "        out = F.relu(out)\n",
        "        out = self.conv1(out)\n",
        "        out = self.norm2(out)\n",
        "        out = F.relu(out)\n",
        "        out = self.conv2(out)\n",
        "        out += self._shortcut(x)\n",
        "        return out\n",
        "        "
      ],
      "execution_count": 0,
      "outputs": []
    },
    {
      "cell_type": "code",
      "metadata": {
        "id": "bt4ucGrcQFrS",
        "colab_type": "code",
        "colab": {}
      },
      "source": [
        "class ResDownBlock2d(nn.Module):\n",
        "    \"\"\"\n",
        "    Downsampling block for use in encoder.\n",
        "    \"\"\"\n",
        "\n",
        "    def __init__(self, in_features, out_features, kernel_size=3, padding=1, \n",
        "                 norm=Norms.BATCH_NORM_AFFINE):\n",
        "        super(ResDownBlock2d, self).__init__()\n",
        "        self.conv = ResBlock2d(in_features=in_features, out_features=out_features, kernel_size=kernel_size,\n",
        "                              padding=padding, norm=norm)\n",
        "        self.pool = nn.AvgPool2d(kernel_size=(2, 2))\n",
        "\n",
        "    def forward(self, x):\n",
        "        out = self.conv(x)\n",
        "        out = self.pool(out)\n",
        "        return out\n",
        "\n",
        "class ResUpBlock2d(nn.Module):\n",
        "    \"\"\"\n",
        "    Downsampling block for use in encoder.\n",
        "    \"\"\"\n",
        "\n",
        "    def __init__(self, in_features, out_features, kernel_size=3, padding=1, \n",
        "                 norm=Norms.BATCH_NORM_AFFINE):\n",
        "        super(ResUpBlock2d, self).__init__()\n",
        "        self.conv = ResBlock2d(in_features=in_features, out_features=out_features, kernel_size=kernel_size,\n",
        "                              padding=padding, norm=norm)\n",
        "\n",
        "    def forward(self, x):\n",
        "        out = self.conv(x)\n",
        "        out = F.interpolate(out, scale_factor=2)\n",
        "        return out"
      ],
      "execution_count": 0,
      "outputs": []
    },
    {
      "cell_type": "code",
      "metadata": {
        "id": "mYW5mlsDamRF",
        "colab_type": "code",
        "colab": {}
      },
      "source": [
        ""
      ],
      "execution_count": 0,
      "outputs": []
    },
    {
      "cell_type": "code",
      "metadata": {
        "id": "ONOyR1bKQrEh",
        "colab_type": "code",
        "colab": {}
      },
      "source": [
        "class Encoder(nn.Module):\n",
        "    \"\"\"\n",
        "    Hourglass Encoder\n",
        "    \"\"\"\n",
        "\n",
        "    def __init__(self, in_features, block_expansion=64, num_blocks=6, max_features=1024, norm=Norms.BATCH_NORM_AFFINE):\n",
        "        super(Encoder, self).__init__()\n",
        "\n",
        "        self.initial_conv = nn.Conv2d(in_features, block_expansion, 1)\n",
        "\n",
        "        down_blocks = []\n",
        "        for i in range(num_blocks):\n",
        "            down_blocks.append(ResDownBlock2d(min(max_features, block_expansion * (2 ** i)),\n",
        "                                           min(max_features, block_expansion * (2 ** (i + 1))),\n",
        "                                           kernel_size=3, padding=1, norm=norm))\n",
        "        self.down_blocks = nn.ModuleList(down_blocks)\n",
        "        self.out_features = min(max_features, block_expansion * (2 ** (i + 1)))\n",
        "\n",
        "    def forward(self, x):\n",
        "        x = self.initial_conv(x)\n",
        "        outs = [x]\n",
        "        for down_block in self.down_blocks:\n",
        "            outs.append(down_block(outs[-1]))\n",
        "        return outs\n",
        "\n"
      ],
      "execution_count": 0,
      "outputs": []
    },
    {
      "cell_type": "code",
      "metadata": {
        "id": "2_-lCBX8bWSQ",
        "colab_type": "code",
        "colab": {}
      },
      "source": [
        "\n",
        "class Decoder(nn.Module):\n",
        "    \"\"\"\n",
        "    Hourglass Decoder\n",
        "    \"\"\"\n",
        "\n",
        "    def __init__(self, in_features, block_expansion=64, num_blocks=6, max_features=1024, norm=Norms.BATCH_NORM_AFFINE):\n",
        "        super(Decoder, self).__init__()\n",
        "\n",
        "        up_blocks = []\n",
        "\n",
        "        for i in range(num_blocks)[::-1]:\n",
        "            in_filters = (1 if i == num_blocks - 1 else 2) * min(max_features, block_expansion * (2 ** (i+1)))\n",
        "            out_filters = min(max_features, max(0, block_expansion * (2 ** i)))\n",
        "            print(in_filters, out_filters)\n",
        "\n",
        "            up_blocks.append(ResUpBlock2d(in_filters, out_filters, kernel_size=3, padding=1, norm=Norms.BATCH_NORM_AFFINE))\n",
        " \n",
        "        self.up_blocks = nn.ModuleList(up_blocks)\n",
        "        self.out_features = 2 * out_filters\n",
        "\n",
        "    def forward(self, x):\n",
        "        out = x.pop()\n",
        "        print(\"initial\", out.size())\n",
        "        for i, up_block in enumerate(self.up_blocks):\n",
        "            out = up_block(out)\n",
        "            print(\"after up\", out.size())\n",
        "            skip = x.pop()\n",
        "            print(\"from enc\", skip.size())\n",
        "            print(\"idx, out, skip\", (i, out.size(), skip.size()))\n",
        "            out = torch.cat([out, skip], dim=1)\n",
        "            print(\"after cat\", out.size())\n",
        "        print(\"out\", out.size())\n",
        "        return out"
      ],
      "execution_count": 0,
      "outputs": []
    },
    {
      "cell_type": "code",
      "metadata": {
        "id": "I7c349DobXB-",
        "colab_type": "code",
        "colab": {}
      },
      "source": [
        "class HourglassDiscriminator(nn.Module):\n",
        "    \"\"\"\n",
        "    Hourglass architecture.\n",
        "    \"\"\"\n",
        "\n",
        "    def __init__(self, in_features, block_expansion=64,  num_blocks=5, max_features=1024, \n",
        "                 norm=Norms.BATCH_NORM_AFFINE):\n",
        "        super(HourglassDiscriminator, self).__init__()\n",
        "        self.encoder = Encoder(in_features, block_expansion, num_blocks, max_features, \n",
        "                               norm=norm)\n",
        "        \n",
        "        self.relu = nn.ReLU()\n",
        "        self.linear = nn.Linear(self.encoder.out_features, 1)\n",
        "\n",
        "        self.decoder = Decoder(in_features, block_expansion, num_blocks, max_features,\n",
        "                               norm=norm)\n",
        "        \n",
        "        self.final_conv = nn.Conv2d(self.decoder.out_features, 1, kernel_size=1)\n",
        "        self.sigmoid = nn.Sigmoid()\n",
        "\n",
        "    def forward(self, x):\n",
        "        enc_out = self.encoder(x)\n",
        "\n",
        "        enc_discrim_out = self.relu(enc_out[-1])\n",
        "        enc_discrim_out = torch.sum(enc_discrim_out, dim=(2, 3))\n",
        "        enc_discrim_out = self.linear(enc_discrim_out)\n",
        "\n",
        "        dec_discrim_out = self.sigmoid(self.final_conv(self.decoder(enc_out)))\n",
        "\n",
        "        return enc_discrim_out, dec_discrim_out\n"
      ],
      "execution_count": 0,
      "outputs": []
    },
    {
      "cell_type": "code",
      "metadata": {
        "id": "OzoTqTKFfsF1",
        "colab_type": "code",
        "outputId": "20ef6709-da3b-48dc-b364-ded813b9a4d7",
        "colab": {
          "base_uri": "https://localhost:8080/",
          "height": 677
        }
      },
      "source": [
        "discrim = HourglassDiscriminator(3)\n",
        "img = torch.rand((1, 3, 256, 256))\n",
        "enc_out, dec_out = discrim(img)\n",
        "print(dec_out.size(), img.size())\n",
        "assert dec_out.size()[2:] == img.size()[2:]"
      ],
      "execution_count": 0,
      "outputs": [
        {
          "output_type": "stream",
          "text": [
            "64\n",
            "128\n",
            "256\n",
            "512\n",
            "1024\n",
            "1024 1024\n",
            "1024\n",
            "2048 512\n",
            "2048\n",
            "1024 256\n",
            "1024\n",
            "512 128\n",
            "512\n",
            "256 64\n",
            "256\n",
            "initial torch.Size([1, 1024, 8, 8])\n",
            "after up torch.Size([1, 1024, 16, 16])\n",
            "from enc torch.Size([1, 1024, 16, 16])\n",
            "idx, out, skip (0, torch.Size([1, 1024, 16, 16]), torch.Size([1, 1024, 16, 16]))\n",
            "after cat torch.Size([1, 2048, 16, 16])\n",
            "after up torch.Size([1, 512, 32, 32])\n",
            "from enc torch.Size([1, 512, 32, 32])\n",
            "idx, out, skip (1, torch.Size([1, 512, 32, 32]), torch.Size([1, 512, 32, 32]))\n",
            "after cat torch.Size([1, 1024, 32, 32])\n",
            "after up torch.Size([1, 256, 64, 64])\n",
            "from enc torch.Size([1, 256, 64, 64])\n",
            "idx, out, skip (2, torch.Size([1, 256, 64, 64]), torch.Size([1, 256, 64, 64]))\n",
            "after cat torch.Size([1, 512, 64, 64])\n",
            "after up torch.Size([1, 128, 128, 128])\n",
            "from enc torch.Size([1, 128, 128, 128])\n",
            "idx, out, skip (3, torch.Size([1, 128, 128, 128]), torch.Size([1, 128, 128, 128]))\n",
            "after cat torch.Size([1, 256, 128, 128])\n",
            "after up torch.Size([1, 64, 256, 256])\n",
            "from enc torch.Size([1, 64, 256, 256])\n",
            "idx, out, skip (4, torch.Size([1, 64, 256, 256]), torch.Size([1, 64, 256, 256]))\n",
            "after cat torch.Size([1, 128, 256, 256])\n",
            "out torch.Size([1, 128, 256, 256])\n",
            "torch.Size([1, 1, 256, 256]) torch.Size([1, 3, 256, 256])\n"
          ],
          "name": "stdout"
        }
      ]
    },
    {
      "cell_type": "code",
      "metadata": {
        "id": "IrquLRyxQC_o",
        "colab_type": "code",
        "colab": {}
      },
      "source": [
        ""
      ],
      "execution_count": 0,
      "outputs": []
    }
  ]
}